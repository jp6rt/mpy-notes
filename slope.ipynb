{
 "cells": [
  {
   "cell_type": "code",
   "execution_count": 2,
   "id": "43f83bc6",
   "metadata": {},
   "outputs": [],
   "source": [
    "import numpy as np\n",
    "import matplotlib.pyplot as plt\n",
    "import sympy as sym\n",
    "from IPython.display import display,Math"
   ]
  },
  {
   "cell_type": "markdown",
   "id": "8c3cdc53",
   "metadata": {},
   "source": [
    "## Slope"
   ]
  },
  {
   "cell_type": "code",
   "execution_count": 3,
   "id": "557d09fa",
   "metadata": {},
   "outputs": [
    {
     "data": {
      "text/latex": [
       "$\\displaystyle \\text{slope = } \\frac{\\delta{y}}{\\delta{x}} \\text{ = } \\frac{y2-y1}{x2-x1}$"
      ],
      "text/plain": [
       "<IPython.core.display.Math object>"
      ]
     },
     "metadata": {},
     "output_type": "display_data"
    }
   ],
   "source": [
    "display(Math('\\\\text{slope = } \\\\frac{\\\\delta{y}}{\\\\delta{x}} \\\\text{ = } \\\\frac{y2-y1}{x2-x1}'))\n",
    "\n",
    "def get_line_slope(y2, y1, x2, x1):\n",
    "    return (y2-y1)/(x2-x1)"
   ]
  },
  {
   "cell_type": "code",
   "execution_count": 7,
   "id": "388697c3",
   "metadata": {},
   "outputs": [
    {
     "name": "stdout",
     "output_type": "stream",
     "text": [
      "Line 1 Slope 1.0\n",
      "Line 2 Slope 2.0\n",
      "Line 3 Slope -0.5\n"
     ]
    },
    {
     "data": {
      "image/png": "[encoded data removed]",
      "text/plain": [
       "<Figure size 500x500 with 1 Axes>"
      ]
     },
     "metadata": {},
     "output_type": "display_data"
    }
   ],
   "source": [
    "fig, (ax0) = plt.subplots(nrows=1, layout='constrained', figsize=(5,5))\n",
    "\n",
    "# This plot creates fixed limit on x,y line\n",
    "line_p = 5.\n",
    "x = np.linspace(-(line_p), line_p, 100)\n",
    "ax0.plot(x, np.sin(x*np.pi), alpha=0.05, color='grey')\n",
    "ax0.plot(np.sin(x*np.pi), x, alpha=0.05, color='grey')\n",
    "\n",
    "Line1_X = [0, 1, 2]\n",
    "Line1_Y = [-1, 0, 1]\n",
    "Line2_X = [-1, 0, 1]\n",
    "Line2_Y = [-2, 0, 2]\n",
    "Line3_X = [-2, 0, 2, 4]\n",
    "Line3_Y = [2, 1, 0, -1]\n",
    "\n",
    "print(\"Line 1 Slope\", get_line_slope(Line1_Y[1], Line1_Y[0], Line1_X[1],Line1_X[0]))\n",
    "print(\"Line 2 Slope\", get_line_slope(Line2_Y[1], Line2_Y[0], Line2_X[1],Line2_X[0]))\n",
    "print(\"Line 3 Slope\", get_line_slope(Line3_Y[1], Line3_Y[0], Line3_X[1],Line3_X[0]))\n",
    "\n",
    "ax0.plot(Line1_X, Line1_Y, marker='o')\n",
    "ax0.plot(Line2_X, Line2_Y, marker='o')\n",
    "ax0.plot(Line3_X, Line3_Y, marker='o')\n",
    "\n",
    "ax0.spines[[\"left\", \"bottom\"]].set_position((\"data\", 0))\n",
    "ax0.spines[[\"top\", \"right\"]].set_visible(False)\n",
    "\n",
    "ax0.plot(1, 0, \">k\", transform=ax0.get_yaxis_transform(), clip_on=False)\n",
    "ax0.plot(0, 1, \"^k\", transform=ax0.get_xaxis_transform(), clip_on=False)\n",
    "\n",
    "plt.show()"
   ]
  },
  {
   "cell_type": "markdown",
   "id": "4df06bbe",
   "metadata": {},
   "source": [
    "## Point-slope form and slope-intercept forms of a line"
   ]
  },
  {
   "cell_type": "code",
   "execution_count": 36,
   "id": "cf1d0f43",
   "metadata": {},
   "outputs": [
    {
     "data": {
      "text/latex": [
       "$\\displaystyle \\text{Point-slope form } y-y1 = m(x-x1)$"
      ],
      "text/plain": [
       "<IPython.core.display.Math object>"
      ]
     },
     "metadata": {},
     "output_type": "display_data"
    },
    {
     "data": {
      "text/latex": [
       "$\\displaystyle \\text{Slope-intercept form } y=mx+b$"
      ],
      "text/plain": [
       "<IPython.core.display.Math object>"
      ]
     },
     "metadata": {},
     "output_type": "display_data"
    }
   ],
   "source": [
    "display(Math('\\\\text{Point-slope form } y-y1 = m(x-x1)'))\n",
    "display(Math('\\\\text{Slope-intercept form } y=mx+b'))"
   ]
  },
  {
   "cell_type": "code",
   "execution_count": null,
   "id": "8e366510",
   "metadata": {},
   "outputs": [],
   "source": []
  }
 ],
 "metadata": {
  "kernelspec": {
   "display_name": "Python 3 (ipykernel)",
   "language": "python",
   "name": "python3"
  },
  "language_info": {
   "codemirror_mode": {
    "name": "ipython",
    "version": 3
   },
   "file_extension": ".py",
   "mimetype": "text/x-python",
   "name": "python",
   "nbconvert_exporter": "python",
   "pygments_lexer": "ipython3",
   "version": "3.10.9"
  }
 },
 "nbformat": 4,
 "nbformat_minor": 5
}
